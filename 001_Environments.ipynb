{
 "cells": [
  {
   "cell_type": "markdown",
   "metadata": {},
   "source": [
    "## Leveraging a conda environment\n",
    "\n",
    "### Conda Environements\n",
    "\n",
    "-  When you create your model using a compute instance, you want to have the **EXACT** same python packages available during deployment \n",
    "\n",
    "- When you deploy your model you can use a registered environment, but you can also use those same environments leveraging conda on your compute instance, they go hand-in-hand\n",
    "\n",
    "-The code below will generate a conda yml file, note after you execute the code below, in your working directory you will find a file 'experiment_env.yml' which you can use as a virtual environment during the hackathon.  Feel free to add your own packages into the enviroment, give it a try:\n"
   ]
  },
  {
   "cell_type": "code",
   "execution_count": 1,
   "metadata": {},
   "outputs": [
    {
     "name": "stdout",
     "output_type": "stream",
     "text": [
      "Writing experiment_env.yml\n"
     ]
    }
   ],
   "source": [
    "%%writefile experiment_env.yml\n",
    "name: experiment_env\n",
    "dependencies:\n",
    "  # The python interpreter version.\n",
    "  # Currently Azure ML only supports 3.5.2 and later.\n",
    "- python=3.8.5\n",
    "- scikit-learn\n",
    "- ipykernel\n",
    "- matplotlib\n",
    "- pandas\n",
    "- pip\n",
    "- pip:\n",
    "  - azureml-defaults\n",
    "  - pyarrow"
   ]
  },
  {
   "cell_type": "markdown",
   "metadata": {},
   "source": [
    "### Commands to leverage custom environment on compute instance\n",
    "\n",
    "```\n",
    "conda env list\n",
    "conda env create -f experiment_env.yml\n",
    "conda activate experiment_env\n",
    "ipython kernel install --user --name experiment_env --display-name \"experiment_env\"\n",
    "```"
   ]
  },
  {
   "cell_type": "markdown",
   "metadata": {},
   "source": [
    "After creating the the environment, in your jupyter notebook, you can restart the kernal, and hit **F5** to refresh, now in your Kernal dropdown, you should see that environment.  If you use the same environment to create a model as you do to deploy it, you will see repeatable results.  "
   ]
  },
  {
   "cell_type": "code",
   "execution_count": null,
   "metadata": {},
   "outputs": [],
   "source": []
  }
 ],
 "metadata": {
  "kernel_info": {
   "name": "python3-azureml"
  },
  "kernelspec": {
   "display_name": "Python 3.6 - AzureML",
   "language": "python",
   "name": "python3-azureml"
  },
  "language_info": {
   "codemirror_mode": {
    "name": "ipython",
    "version": 3
   },
   "file_extension": ".py",
   "mimetype": "text/x-python",
   "name": "python",
   "nbconvert_exporter": "python",
   "pygments_lexer": "ipython3",
   "version": "3.6.9"
  },
  "nteract": {
   "version": "nteract-front-end@1.0.0"
  }
 },
 "nbformat": 4,
 "nbformat_minor": 1
}
